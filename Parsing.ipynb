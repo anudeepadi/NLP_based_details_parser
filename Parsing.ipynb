{
 "cells": [
  {
   "cell_type": "code",
   "execution_count": 44,
   "id": "d70fddde-d539-4ddb-b87f-ff21bc58fd7a",
   "metadata": {},
   "outputs": [],
   "source": [
    "import re\n",
    "import spacy\n",
    "import textract\n",
    "import os\n",
    "from spacy.matcher import Matcher\n",
    "import glob\n",
    "import os\n",
    "import json\n",
    "import random"
   ]
  },
  {
   "cell_type": "code",
   "execution_count": 39,
   "id": "bea026b5-ae31-47b6-806d-e785995c6d2c",
   "metadata": {},
   "outputs": [],
   "source": [
    "class parse:\n",
    "    def __init__(self, file_path):\n",
    "        self.file_path = file_path\n",
    "        self.resume = textract.process(self.file_path).decode()\n",
    "        if type(self.resume) == str:\n",
    "            self.resumes = [self.resume]\n",
    "        self.nlp = spacy.load('en_core_web_sm')\n",
    "        self.matcher = Matcher(self.nlp.vocab)\n",
    "\n",
    "    def clean_text(self):\n",
    "        clean_resume = []\n",
    "        for resume in self.resumes:\n",
    "            clean_resume.append(re.sub(r'[^\\w\\s]', '', resume))\n",
    "        return clean_resume\n",
    "\n",
    "    def extract_phone_number(self):\n",
    "        ph_list = []\n",
    "        for resume in self.resumes:\n",
    "            items = re.finditer(r'\\d{3}[-\\.\\s]??\\d{3}[-\\.\\s]??\\d{4}|\\(\\d{3}\\)\\s*\\d{3}[-\\.\\s]??\\d{4}|\\d{3}[-\\.\\s]??\\d{4}', resume)\n",
    "            ph_span = [(resume[item.span()[0]:item.span()[1]], item.span()) for item in items]\n",
    "            ph_list.append(ph_span)\n",
    "        return ph_list\n",
    "    \n",
    "    def extract_email(self):\n",
    "        email_list = []\n",
    "        for resume in self.resumes:\n",
    "            items = re.finditer(r'[\\w\\.-]+@[\\w\\.-]+', resume)\n",
    "            em_span = [(resume[item.span()[0]:item.span()[1]], item.span()) for item in items]\n",
    "            email_list.append(em_span)\n",
    "        return email_list\n",
    "       \n",
    "    def extract_dob(self):\n",
    "        dob_list = []\n",
    "        for resume in self.resumes:\n",
    "            result2 = re.finditer(r\"[\\d]{1,2}-[\\d]{1,2}-[\\d]{4}\", resume) # DD-MM-YYYY\n",
    "            dob_span = [(resume[item.span()[0]:item.span()[1]], item.span()) for item in result2]\n",
    "            dob_list.append(dob_span)\n",
    "        return dob_list\n",
    "\n",
    "    def extract_name(self):\n",
    "        name_list = []\n",
    "        for resume in self.resumes:\n",
    "            doc = self.nlp(resume)\n",
    "            pattern = [{'POS': 'PROPN'}, {'POS': 'PROPN'}]\n",
    "            self.matcher.add('NAME', [pattern])\n",
    "            matches = self.matcher(doc)\n",
    "            for match_id, start, end in matches:\n",
    "                span = doc[start:end]\n",
    "        return span.text\n",
    "\n",
    "    def extract_location(self):\n",
    "        location_list = []\n",
    "        for resume in self.resumes:\n",
    "            doc = self.nlp(resume)\n",
    "            for ent in doc.ents:\n",
    "                if ent.label_ in ['GPE', 'LOC']:\n",
    "                    ls = list(ent.text)\n",
    "            string = ''.join(ls)\n",
    "            location_list.append(string)\n",
    "        return location_list\n",
    "    \n",
    "    def output(self, *args):\n",
    "        return {\n",
    "            'name': self.extract_name(),\n",
    "            'phone number': self.extract_phone_number(),\n",
    "            'e-mail': self.extract_email(),\n",
    "            'DoB': self.extract_dob(),\n",
    "            'location': self.extract_location()\n",
    "        }\n",
    "    def output_to_json(self, *args):\n",
    "        s = {\n",
    "            'name': self.extract_name(),\n",
    "            'phone number': self.extract_phone_number(),\n",
    "            'e-mail': self.extract_email(),\n",
    "            'DoB': self.extract_dob(),\n",
    "            'location': self.extract_location()\n",
    "        }\n",
    "        with open('sample6.json','w') as outfile:\n",
    "            json_obj = json.dumps(s)\n",
    "            outfile.write(json_obj)\n",
    "        return \"File Created\""
   ]
  },
  {
   "cell_type": "code",
   "execution_count": 40,
   "id": "b48b7d36-a0dc-4f77-bcee-24309de6d296",
   "metadata": {},
   "outputs": [],
   "source": [
    "file_path = 'Resume1 UI.docx'"
   ]
  },
  {
   "cell_type": "code",
   "execution_count": 41,
   "id": "d9459aab-431d-4e80-9603-8b21b3fdde74",
   "metadata": {},
   "outputs": [],
   "source": [
    "parser = parse(file_path)"
   ]
  },
  {
   "cell_type": "code",
   "execution_count": 42,
   "id": "cd4f9cc1-936a-4e14-8fc6-c07ea1a90f3b",
   "metadata": {},
   "outputs": [
    {
     "data": {
      "text/plain": [
       "{'name': 'CLOUD ARCHITECT',\n",
       " 'phone number': [[('123-456-7890', (27, 39))]],\n",
       " 'e-mail': [[('xyz@gmail.com', (48, 61)),\n",
       "   ('eymemathew@gmail.com', (13086, 13106)),\n",
       "   ('fyan@unr.edu', (13190, 13202)),\n",
       "   ('SalmanKaleemM@Virtusa.com', (13269, 13294))]],\n",
       " 'DoB': [[]],\n",
       " 'location': ['India']}"
      ]
     },
     "execution_count": 42,
     "metadata": {},
     "output_type": "execute_result"
    }
   ],
   "source": [
    "parser.output()"
   ]
  },
  {
   "cell_type": "code",
   "execution_count": 45,
   "id": "3289ec27-058e-4afd-b17a-55379c0157ad",
   "metadata": {},
   "outputs": [
    {
     "data": {
      "text/plain": [
       "'File Created'"
      ]
     },
     "execution_count": 45,
     "metadata": {},
     "output_type": "execute_result"
    }
   ],
   "source": [
    "parser.output_to_json()"
   ]
  },
  {
   "cell_type": "code",
   "execution_count": null,
   "id": "3417e300-f575-4717-82c0-1cdc4b2c72db",
   "metadata": {},
   "outputs": [],
   "source": []
  }
 ],
 "metadata": {
  "kernelspec": {
   "display_name": "Python 3 (ipykernel)",
   "language": "python",
   "name": "python3"
  },
  "language_info": {
   "codemirror_mode": {
    "name": "ipython",
    "version": 3
   },
   "file_extension": ".py",
   "mimetype": "text/x-python",
   "name": "python",
   "nbconvert_exporter": "python",
   "pygments_lexer": "ipython3",
   "version": "3.9.13"
  }
 },
 "nbformat": 4,
 "nbformat_minor": 5
}
